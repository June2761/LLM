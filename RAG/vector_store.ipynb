{
 "cells": [
  {
   "cell_type": "code",
   "execution_count": 2,
   "metadata": {},
   "outputs": [],
   "source": [
    "from langchain.chat_models import ChatOpenAI\n",
    "from langchain.document_loaders import UnstructuredFileLoader\n",
    "from langchain.text_splitter import CharacterTextSplitter\n",
    "from langchain.embeddings import OpenAIEmbeddings, CacheBackedEmbeddings\n",
    "from langchain.vectorstores import Chroma\n",
    "from langchain.storage import LocalFileStore\n",
    "\n",
    "cache_dir = LocalFileStore(\"./.cache/\")\n",
    "\n",
    "\n",
    "splitter = CharacterTextSplitter.from_tiktoken_encoder(\n",
    "    separator=\"\\n\",\n",
    "    chunk_size=600,\n",
    "    chunk_overlap=100,\n",
    ")\n",
    "loader = UnstructuredFileLoader(\"/Users/jun/FullStack_GPT/files/IS20_Erosion_ErosionCorrosion v1.8.pdf\")\n",
    "\n",
    "docs = loader.load_and_split(text_splitter=splitter)\n",
    "\n",
    "embeddings = OpenAIEmbeddings()\n",
    "\n",
    "cached_embeddings = CacheBackedEmbeddings.from_bytes_store(embeddings, cache_dir)\n",
    "\n",
    "vectorstore = Chroma.from_documents(docs, cached_embeddings)"
   ]
  },
  {
   "cell_type": "code",
   "execution_count": 3,
   "metadata": {},
   "outputs": [
    {
     "data": {
      "text/plain": [
       "[Document(page_content='2 of 14\\nInspection Strategy 20: Erosion/Erosion-Corrosion Version 1.8, July 26, 2017\\nDownstream & Chemicals – Manufacturing\\nAffected Materials\\nA. All materials, including refractories, can experience erosion or erosion-corrosion. Degree of\\nsusceptibility depends on the combination of critical factors to which the material is exposed.\\nB. All material which experiences corrosion from the process stream that also contains flowing solid media is subject to erosion. Examples of this are catalyst erosion in fluidized catalytic cracking (FCC) and continuous catalytic reforming (CCR) units.\\nC. High velocities and turbulent flow cause erosion-corrosion even without solid media in the process flow. Carbon steel, low-alloy steels, and Cu-Ni alloys are susceptible to this. Examples of this are naphthenic acid in crude units and ammonium bisulfide in hydroprocessing units.\\nCritical Factors\\nThe critical factors for erosion and erosion-corrosion are the solids content, velocity, corrosiveness of the process stream, and material composition.\\nFactor\\nDescription\\nA.\\nSolids content\\nThe solids content in the process fluid significantly impacts the degree of erosion and erosion-corrosion. Slurries (solids suspended in a liquid) with > 1% solids should be considered erosive.\\nCirculating solid catalyst systems are very erosive. The shape, hardness, and size of the catalyst affect erosion, but generally this is not something that is controlled. Larger particles are more damaging because of the higher kinetic energy.\\nB.\\nVelocity\\nThe corrosion resistance of many metals is dependent on the formation of protective films or scales. Increasing process stream velocities imparts higher energy on the metal surface (high wall shear stresses), which damages and removes the protective layers and exposes fresh metal to corrosion. High velocities and turbulent locations in the corrosive liquid flow promote erosion-corrosion.\\nGeneral velocity limit guidelines are determined for each type of material and service combination and are grouped according to corrosive streams (with and without solids) and catalyst streams. Exceeding these limits may result in unacceptable corrosion rates. \\uf02d Corrosive streams with no solids: Carbon steel components with stream velocity\\n< 15 fps (5 m/s), and corrosion-resistant alloy (CRA) components with stream velocity < 30 fps (9 m/s).\\n\\uf02d Corrosive streams with solids: All alloys with solids content < 1% and velocity < 7 fps\\n(2 m/s).\\n\\uf02d Noncorrosive streams with solids: All alloys with solids content < 1% and velocity\\n< 10 fps (3 m/s).', metadata={'source': '/Users/jun/FullStack_GPT/files/IS20_Erosion_ErosionCorrosion v1.8.pdf'}),\n",
       " Document(page_content='2 of 14\\nInspection Strategy 20: Erosion/Erosion-Corrosion Version 1.8, July 26, 2017\\nDownstream & Chemicals – Manufacturing\\nAffected Materials\\nA. All materials, including refractories, can experience erosion or erosion-corrosion. Degree of\\nsusceptibility depends on the combination of critical factors to which the material is exposed.\\nB. All material which experiences corrosion from the process stream that also contains flowing solid media is subject to erosion. Examples of this are catalyst erosion in fluidized catalytic cracking (FCC) and continuous catalytic reforming (CCR) units.\\nC. High velocities and turbulent flow cause erosion-corrosion even without solid media in the process flow. Carbon steel, low-alloy steels, and Cu-Ni alloys are susceptible to this. Examples of this are naphthenic acid in crude units and ammonium bisulfide in hydroprocessing units.\\nCritical Factors\\nThe critical factors for erosion and erosion-corrosion are the solids content, velocity, corrosiveness of the process stream, and material composition.\\nFactor\\nDescription\\nA.\\nSolids content\\nThe solids content in the process fluid significantly impacts the degree of erosion and erosion-corrosion. Slurries (solids suspended in a liquid) with > 1% solids should be considered erosive.\\nCirculating solid catalyst systems are very erosive. The shape, hardness, and size of the catalyst affect erosion, but generally this is not something that is controlled. Larger particles are more damaging because of the higher kinetic energy.\\nB.\\nVelocity\\nThe corrosion resistance of many metals is dependent on the formation of protective films or scales. Increasing process stream velocities imparts higher energy on the metal surface (high wall shear stresses), which damages and removes the protective layers and exposes fresh metal to corrosion. High velocities and turbulent locations in the corrosive liquid flow promote erosion-corrosion.\\nGeneral velocity limit guidelines are determined for each type of material and service combination and are grouped according to corrosive streams (with and without solids) and catalyst streams. Exceeding these limits may result in unacceptable corrosion rates. \\uf02d Corrosive streams with no solids: Carbon steel components with stream velocity\\n< 15 fps (5 m/s), and corrosion-resistant alloy (CRA) components with stream velocity < 30 fps (9 m/s).\\n\\uf02d Corrosive streams with solids: All alloys with solids content < 1% and velocity < 7 fps\\n(2 m/s).\\n\\uf02d Noncorrosive streams with solids: All alloys with solids content < 1% and velocity\\n< 10 fps (3 m/s).', metadata={'source': '/Users/jun/FullStack_GPT/files/IS20_Erosion_ErosionCorrosion v1.8.pdf'}),\n",
       " Document(page_content='Inspection Strategy 20: Erosion/Erosion-Corrosion\\nVersion 1.8, July 26, 2017 Downstream & Chemicals – Manufacturing\\nDescription of Damage\\nErosion is the loss of metal from a surface caused by the relative motion of material abrading or impinging on the metal. Erosion-corrosion is the accelerated loss of metal from a surface caused by the removal of protective scales, allowing corrosion of the fresh metal that is continually exposed.\\nFailure Modes\\nMost Likely\\nLess Likely\\nNot Applicable\\nPinhole-sized leaks\\nX\\nSmall- to medium-sized leaks\\nX\\nThrough-wall cracks\\nX\\nLarge leak or rupture\\nX\\nAffected Materials\\nPreferred Materials\\nAll materials\\nHard-faced materials\\nCorrosion-resistant alloys\\nErosion-resistant refractory (catalyst service)\\nCritical Factors\\nSolids content\\nVelocity\\nCorrosiveness of process stream\\nMaterial composition\\nAffected Units or Equipment\\nAppearance\\nEquipment exposed to moving corrosive fluids or solids\\nFCC units\\nSmooth or scalloped areas with grooves, gullies, or wave patterns\\nDirectional pattern\\nCoker\\nCrude units and vacuum systems\\nSharp edges or features\\nHydroprocessing units\\nWet gas scrubber\\nContinuous catalytic reformers\\nInspection strategies and associated documents were developed using the latest industry information and practices, including API 571. The documents were initially drafted by third-party industry leaders, content was contributed by Chevron Manufacturing inspection experts, and the documents were reviewed by ETC Materials Engineers who added Chevron-specific information and provided final overall approval.\\n© 2015 – 2017 Chevron U.S.A. Inc. All rights reserved. Company Confidential – Uncontrolled When Printed\\n1 of 14\\nInspection Strategy 20: Erosion/Erosion-Corrosion Version 1.8, July 26, 2017\\nDownstream & Chemicals – Manufacturing\\nInspection\\nMonitoring\\nRT\\nManual UT scanning\\nThickness monitoring sensors\\nGrid UT\\nAUT\\nPrevention and Mitigation\\nSusceptibility to Damage\\nReduction in Susceptibility\\nRelated Mechanisms\\nReferences\\nImages and Charts\\nVersion History\\n© 2015 – 2017 Chevron U.S.A. Inc. All rights reserved. Company Confidential – Uncontrolled When Printed\\n2 of 14\\nInspection Strategy 20: Erosion/Erosion-Corrosion Version 1.8, July 26, 2017\\nDownstream & Chemicals – Manufacturing\\nAffected Materials\\nA. All materials, including refractories, can experience erosion or erosion-corrosion. Degree of\\nsusceptibility depends on the combination of critical factors to which the material is exposed.', metadata={'source': '/Users/jun/FullStack_GPT/files/IS20_Erosion_ErosionCorrosion v1.8.pdf'}),\n",
       " Document(page_content='Inspection Strategy 20: Erosion/Erosion-Corrosion\\nVersion 1.8, July 26, 2017 Downstream & Chemicals – Manufacturing\\nDescription of Damage\\nErosion is the loss of metal from a surface caused by the relative motion of material abrading or impinging on the metal. Erosion-corrosion is the accelerated loss of metal from a surface caused by the removal of protective scales, allowing corrosion of the fresh metal that is continually exposed.\\nFailure Modes\\nMost Likely\\nLess Likely\\nNot Applicable\\nPinhole-sized leaks\\nX\\nSmall- to medium-sized leaks\\nX\\nThrough-wall cracks\\nX\\nLarge leak or rupture\\nX\\nAffected Materials\\nPreferred Materials\\nAll materials\\nHard-faced materials\\nCorrosion-resistant alloys\\nErosion-resistant refractory (catalyst service)\\nCritical Factors\\nSolids content\\nVelocity\\nCorrosiveness of process stream\\nMaterial composition\\nAffected Units or Equipment\\nAppearance\\nEquipment exposed to moving corrosive fluids or solids\\nFCC units\\nSmooth or scalloped areas with grooves, gullies, or wave patterns\\nDirectional pattern\\nCoker\\nCrude units and vacuum systems\\nSharp edges or features\\nHydroprocessing units\\nWet gas scrubber\\nContinuous catalytic reformers\\nInspection strategies and associated documents were developed using the latest industry information and practices, including API 571. The documents were initially drafted by third-party industry leaders, content was contributed by Chevron Manufacturing inspection experts, and the documents were reviewed by ETC Materials Engineers who added Chevron-specific information and provided final overall approval.\\n© 2015 – 2017 Chevron U.S.A. Inc. All rights reserved. Company Confidential – Uncontrolled When Printed\\n1 of 14\\nInspection Strategy 20: Erosion/Erosion-Corrosion Version 1.8, July 26, 2017\\nDownstream & Chemicals – Manufacturing\\nInspection\\nMonitoring\\nRT\\nManual UT scanning\\nThickness monitoring sensors\\nGrid UT\\nAUT\\nPrevention and Mitigation\\nSusceptibility to Damage\\nReduction in Susceptibility\\nRelated Mechanisms\\nReferences\\nImages and Charts\\nVersion History\\n© 2015 – 2017 Chevron U.S.A. Inc. All rights reserved. Company Confidential – Uncontrolled When Printed\\n2 of 14\\nInspection Strategy 20: Erosion/Erosion-Corrosion Version 1.8, July 26, 2017\\nDownstream & Chemicals – Manufacturing\\nAffected Materials\\nA. All materials, including refractories, can experience erosion or erosion-corrosion. Degree of\\nsusceptibility depends on the combination of critical factors to which the material is exposed.', metadata={'source': '/Users/jun/FullStack_GPT/files/IS20_Erosion_ErosionCorrosion v1.8.pdf'})]"
      ]
     },
     "execution_count": 3,
     "metadata": {},
     "output_type": "execute_result"
    }
   ],
   "source": [
    "results = vectorstore.similarity_search(\"what is critical factor to erosion?\")\n",
    "\n",
    "results"
   ]
  },
  {
   "cell_type": "code",
   "execution_count": null,
   "metadata": {},
   "outputs": [],
   "source": []
  }
 ],
 "metadata": {
  "kernelspec": {
   "display_name": "env",
   "language": "python",
   "name": "python3"
  },
  "language_info": {
   "codemirror_mode": {
    "name": "ipython",
    "version": 3
   },
   "file_extension": ".py",
   "mimetype": "text/x-python",
   "name": "python",
   "nbconvert_exporter": "python",
   "pygments_lexer": "ipython3",
   "version": "3.10.7"
  }
 },
 "nbformat": 4,
 "nbformat_minor": 2
}
