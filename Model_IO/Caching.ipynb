{
 "cells": [
  {
   "cell_type": "code",
   "execution_count": 1,
   "metadata": {},
   "outputs": [
    {
     "name": "stdout",
     "output_type": "stream",
     "text": [
      "\u001b[32;1m\u001b[1;3m[llm/start]\u001b[0m \u001b[1m[1:llm:ChatOpenAI] Entering LLM run with input:\n",
      "\u001b[0m{\n",
      "  \"prompts\": [\n",
      "    \"Human: How do you make italian pasta\"\n",
      "  ]\n",
      "}\n",
      "\u001b[36;1m\u001b[1;3m[llm/end]\u001b[0m \u001b[1m[1:llm:ChatOpenAI] [72.66s] Exiting LLM run with output:\n",
      "\u001b[0m{\n",
      "  \"generations\": [\n",
      "    [\n",
      "      {\n",
      "        \"text\": \"To make Italian pasta, you will need the following ingredients:\\n\\n- 2 cups of all-purpose flour\\n- 2 large eggs\\n- 1/2 teaspoon of salt\\n- Water (if needed)\\n\\nHere's a step-by-step guide to making Italian pasta:\\n\\n1. On a clean surface or in a large mixing bowl, create a well with the flour. Make sure the well is wide enough to hold the eggs.\\n\\n2. Crack the eggs into the well and add the salt.\\n\\n3. Using a fork or your fingers, gradually mix the eggs and salt into the flour. Start from the center and slowly incorporate the flour from the sides. Continue mixing until the dough starts to come together.\\n\\n4. If the dough is too dry, add a little water, one tablespoon at a time, until it reaches the right consistency. If it's too wet, add a little more flour.\\n\\n5. Once the dough is formed, knead it for about 5-10 minutes until it becomes smooth and elastic. This will help develop the gluten in the flour.\\n\\n6. Shape the dough into a ball and cover it with a clean kitchen towel or plastic wrap. Let it rest for at least 30 minutes to allow the gluten to relax.\\n\\n7. After resting, divide the dough into smaller portions. Flatten each portion with your hands or a rolling pin until it's thin enough to fit through a pasta machine.\\n\\n8. Set your pasta machine to the thickest setting and pass the dough through it. Fold the dough in half and pass it through again. Repeat this process a few times until the dough becomes smooth and pliable.\\n\\n9. Gradually decrease the thickness setting on your pasta machine and pass the dough through each setting, folding it in half and passing it through again. Repeat this process until you reach the desired thickness for your pasta.\\n\\n10. Once the dough is rolled out, you can cut it into your desired pasta shape. For example, you can make fettuccine, spaghetti, or lasagna sheets.\\n\\n11. If you don't have a pasta machine, you can roll out the dough by hand using a rolling pin. Just make sure to roll it as thin as possible.\\n\\n12. After cutting the pasta, you can cook it immediately in a pot of boiling salted water for a few minutes until al dente. Alternatively, you can let it dry for a few hours or overnight before cooking.\\n\\nThat's it! You have now made Italian pasta from scratch. Serve it with your favorite sauce, vegetables, or meat to enjoy a delicious homemade meal.\",\n",
      "        \"generation_info\": {\n",
      "          \"finish_reason\": \"stop\"\n",
      "        },\n",
      "        \"type\": \"ChatGeneration\",\n",
      "        \"message\": {\n",
      "          \"lc\": 1,\n",
      "          \"type\": \"constructor\",\n",
      "          \"id\": [\n",
      "            \"langchain\",\n",
      "            \"schema\",\n",
      "            \"messages\",\n",
      "            \"AIMessage\"\n",
      "          ],\n",
      "          \"kwargs\": {\n",
      "            \"content\": \"To make Italian pasta, you will need the following ingredients:\\n\\n- 2 cups of all-purpose flour\\n- 2 large eggs\\n- 1/2 teaspoon of salt\\n- Water (if needed)\\n\\nHere's a step-by-step guide to making Italian pasta:\\n\\n1. On a clean surface or in a large mixing bowl, create a well with the flour. Make sure the well is wide enough to hold the eggs.\\n\\n2. Crack the eggs into the well and add the salt.\\n\\n3. Using a fork or your fingers, gradually mix the eggs and salt into the flour. Start from the center and slowly incorporate the flour from the sides. Continue mixing until the dough starts to come together.\\n\\n4. If the dough is too dry, add a little water, one tablespoon at a time, until it reaches the right consistency. If it's too wet, add a little more flour.\\n\\n5. Once the dough is formed, knead it for about 5-10 minutes until it becomes smooth and elastic. This will help develop the gluten in the flour.\\n\\n6. Shape the dough into a ball and cover it with a clean kitchen towel or plastic wrap. Let it rest for at least 30 minutes to allow the gluten to relax.\\n\\n7. After resting, divide the dough into smaller portions. Flatten each portion with your hands or a rolling pin until it's thin enough to fit through a pasta machine.\\n\\n8. Set your pasta machine to the thickest setting and pass the dough through it. Fold the dough in half and pass it through again. Repeat this process a few times until the dough becomes smooth and pliable.\\n\\n9. Gradually decrease the thickness setting on your pasta machine and pass the dough through each setting, folding it in half and passing it through again. Repeat this process until you reach the desired thickness for your pasta.\\n\\n10. Once the dough is rolled out, you can cut it into your desired pasta shape. For example, you can make fettuccine, spaghetti, or lasagna sheets.\\n\\n11. If you don't have a pasta machine, you can roll out the dough by hand using a rolling pin. Just make sure to roll it as thin as possible.\\n\\n12. After cutting the pasta, you can cook it immediately in a pot of boiling salted water for a few minutes until al dente. Alternatively, you can let it dry for a few hours or overnight before cooking.\\n\\nThat's it! You have now made Italian pasta from scratch. Serve it with your favorite sauce, vegetables, or meat to enjoy a delicious homemade meal.\",\n",
      "            \"additional_kwargs\": {}\n",
      "          }\n",
      "        }\n",
      "      }\n",
      "    ]\n",
      "  ],\n",
      "  \"llm_output\": {\n",
      "    \"token_usage\": {\n",
      "      \"prompt_tokens\": 13,\n",
      "      \"completion_tokens\": 520,\n",
      "      \"total_tokens\": 533\n",
      "    },\n",
      "    \"model_name\": \"gpt-3.5-turbo\",\n",
      "    \"system_fingerprint\": \"\"\n",
      "  },\n",
      "  \"run\": null\n",
      "}\n"
     ]
    },
    {
     "data": {
      "text/plain": [
       "\"To make Italian pasta, you will need the following ingredients:\\n\\n- 2 cups of all-purpose flour\\n- 2 large eggs\\n- 1/2 teaspoon of salt\\n- Water (if needed)\\n\\nHere's a step-by-step guide to making Italian pasta:\\n\\n1. On a clean surface or in a large mixing bowl, create a well with the flour. Make sure the well is wide enough to hold the eggs.\\n\\n2. Crack the eggs into the well and add the salt.\\n\\n3. Using a fork or your fingers, gradually mix the eggs and salt into the flour. Start from the center and slowly incorporate the flour from the sides. Continue mixing until the dough starts to come together.\\n\\n4. If the dough is too dry, add a little water, one tablespoon at a time, until it reaches the right consistency. If it's too wet, add a little more flour.\\n\\n5. Once the dough is formed, knead it for about 5-10 minutes until it becomes smooth and elastic. This will help develop the gluten in the flour.\\n\\n6. Shape the dough into a ball and cover it with a clean kitchen towel or plastic wrap. Let it rest for at least 30 minutes to allow the gluten to relax.\\n\\n7. After resting, divide the dough into smaller portions. Flatten each portion with your hands or a rolling pin until it's thin enough to fit through a pasta machine.\\n\\n8. Set your pasta machine to the thickest setting and pass the dough through it. Fold the dough in half and pass it through again. Repeat this process a few times until the dough becomes smooth and pliable.\\n\\n9. Gradually decrease the thickness setting on your pasta machine and pass the dough through each setting, folding it in half and passing it through again. Repeat this process until you reach the desired thickness for your pasta.\\n\\n10. Once the dough is rolled out, you can cut it into your desired pasta shape. For example, you can make fettuccine, spaghetti, or lasagna sheets.\\n\\n11. If you don't have a pasta machine, you can roll out the dough by hand using a rolling pin. Just make sure to roll it as thin as possible.\\n\\n12. After cutting the pasta, you can cook it immediately in a pot of boiling salted water for a few minutes until al dente. Alternatively, you can let it dry for a few hours or overnight before cooking.\\n\\nThat's it! You have now made Italian pasta from scratch. Serve it with your favorite sauce, vegetables, or meat to enjoy a delicious homemade meal.\""
      ]
     },
     "execution_count": 1,
     "metadata": {},
     "output_type": "execute_result"
    }
   ],
   "source": [
    "from langchain.chat_models import ChatOpenAI\n",
    "from langchain.globals import set_llm_cache, set_debug\n",
    "from langchain.cache import SQLiteCache\n",
    "\n",
    "set_llm_cache(SQLiteCache(\"cache.db\"))\n",
    "set_debug(True)\n",
    "\n",
    "chat = ChatOpenAI(\n",
    "    temperature=0.1\n",
    ")\n",
    "\n",
    "chat.predict(\"How do you make italian pasta\")"
   ]
  },
  {
   "cell_type": "code",
   "execution_count": null,
   "metadata": {},
   "outputs": [],
   "source": []
  }
 ],
 "metadata": {
  "kernelspec": {
   "display_name": "env",
   "language": "python",
   "name": "python3"
  },
  "language_info": {
   "codemirror_mode": {
    "name": "ipython",
    "version": 3
   },
   "file_extension": ".py",
   "mimetype": "text/x-python",
   "name": "python",
   "nbconvert_exporter": "python",
   "pygments_lexer": "ipython3",
   "version": "3.10.7"
  }
 },
 "nbformat": 4,
 "nbformat_minor": 2
}
