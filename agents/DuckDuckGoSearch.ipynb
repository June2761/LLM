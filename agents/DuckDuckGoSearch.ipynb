{
 "cells": [
  {
   "cell_type": "code",
   "execution_count": 3,
   "metadata": {},
   "outputs": [
    {
     "ename": "IndentationError",
     "evalue": "unexpected indent (duckduckgo_search.py, line 67)",
     "output_type": "error",
     "traceback": [
      "Traceback \u001b[0;36m(most recent call last)\u001b[0m:\n",
      "\u001b[0m  File \u001b[1;32m~/FullStack_GPT/env/lib/python3.10/site-packages/IPython/core/interactiveshell.py:3526\u001b[0m in \u001b[1;35mrun_code\u001b[0m\n    exec(code_obj, self.user_global_ns, self.user_ns)\u001b[0m\n",
      "\u001b[0m  Cell \u001b[1;32mIn[3], line 6\u001b[0m\n    from langchain.agents import initialize_agent, AgentType\u001b[0m\n",
      "\u001b[0m  File \u001b[1;32m~/FullStack_GPT/env/lib/python3.10/site-packages/langchain/agents/__init__.py:58\u001b[0m\n    from langchain.agents.load_tools import (\u001b[0m\n",
      "\u001b[0m  File \u001b[1;32m~/FullStack_GPT/env/lib/python3.10/site-packages/langchain/agents/load_tools.py:35\u001b[0m\n    from langchain.tools.ddg_search.tool import DuckDuckGoSearchRun\u001b[0m\n",
      "\u001b[0m  File \u001b[1;32m~/FullStack_GPT/env/lib/python3.10/site-packages/langchain/tools/ddg_search/__init__.py:3\u001b[0m\n    from langchain.tools.ddg_search.tool import DuckDuckGoSearchRun\u001b[0m\n",
      "\u001b[0;36m  File \u001b[0;32m~/FullStack_GPT/env/lib/python3.10/site-packages/langchain/tools/ddg_search/tool.py:9\u001b[0;36m\n\u001b[0;31m    from langchain.utilities.duckduckgo_search import DuckDuckGoSearchAPIWrapper\u001b[0;36m\n",
      "\u001b[0;36m  File \u001b[0;32m~/FullStack_GPT/env/lib/python3.10/site-packages/langchain/utilities/duckduckgo_search.py:67\u001b[0;36m\u001b[0m\n\u001b[0;31m    \"\"\"Run query through DuckDuckGo and return metadata.\u001b[0m\n\u001b[0m    ^\u001b[0m\n\u001b[0;31mIndentationError\u001b[0m\u001b[0;31m:\u001b[0m unexpected indent\n"
     ]
    }
   ],
   "source": [
    "import asyncio\n",
    "from typing import Any, Type\n",
    "from langchain.chat_models import ChatOpenAI\n",
    "from langchain.tools import BaseTool\n",
    "from pydantic import BaseModel, Field\n",
    "from langchain.agents import initialize_agent, AgentType\n",
    "from langchain.utilities.duckduckgo_search import DuckDuckGoSearchAPIWrapper\n",
    "\n",
    "llm = ChatOpenAI(temperature=0.1)\n",
    "\n",
    "class StockMarketSymbolSearchToolArgsSchema(BaseModel):\n",
    "    query: str = Field(description=\"The query you will search for.Example query: Stock Market Symbol for Apple Company\")\n",
    "\n",
    "class StockMarketSymbolSearchTool(BaseTool):\n",
    "    name = \"StockMarketSymbolSearchTool\"\n",
    "    description = \"Use this tool to find the stock market symbol for a company. It takes a query as an argument.\"\n",
    "    args_schema: Type[StockMarketSymbolSearchToolArgsSchema] = StockMarketSymbolSearchToolArgsSchema\n",
    "\n",
    "    def _run(self, query):\n",
    "    # def _run(self, query):\n",
    "        ddg = DuckDuckGoSearchAPIWrapper()\n",
    "        return ddg.run(query)\n",
    "\n",
    "agent = initialize_agent(\n",
    "    llm=llm,\n",
    "    verbose=True,\n",
    "    agent=AgentType.OPENAI_FUNCTIONS,\n",
    "    handle_parsing_errors=True,\n",
    "    tools=[\n",
    "        StockMarketSymbolSearchTool(),\n",
    "    ],\n",
    ")\n",
    "\n",
    "prompt = \"Give me information on Cloudflare's stock and help me analyze if it's a potential good investment. Also tell me what symbol does the stock have.\"\n",
    "\n",
    "agent.invoke(prompt)"
   ]
  },
  {
   "cell_type": "code",
   "execution_count": null,
   "metadata": {},
   "outputs": [],
   "source": []
  }
 ],
 "metadata": {
  "kernelspec": {
   "display_name": "env",
   "language": "python",
   "name": "python3"
  },
  "language_info": {
   "codemirror_mode": {
    "name": "ipython",
    "version": 3
   },
   "file_extension": ".py",
   "mimetype": "text/x-python",
   "name": "python",
   "nbconvert_exporter": "python",
   "pygments_lexer": "ipython3",
   "version": "3.10.13"
  }
 },
 "nbformat": 4,
 "nbformat_minor": 2
}
