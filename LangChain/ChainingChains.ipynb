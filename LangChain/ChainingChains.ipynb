{
 "cells": [
  {
   "cell_type": "code",
   "execution_count": 1,
   "metadata": {},
   "outputs": [],
   "source": [
    "from langchain.chat_models import ChatOpenAI\n",
    "from langchain.prompts import ChatPromptTemplate\n",
    "from langchain.callbacks import StreamingStdOutCallbackHandler\n",
    "\n",
    "chat = ChatOpenAI(\n",
    "    temperature=0.3,\n",
    "    streaming=True,\n",
    "    callbacks=[StreamingStdOutCallbackHandler()]\n",
    ")\n",
    "\n",
    "chef_prompt = ChatPromptTemplate.from_messages(\n",
    "    [\n",
    "        (\"system\", \"You are a World class international chef. You create easy to follow recipes for any type of cuisine with easy to find ingredients\"),\n",
    "        (\"human\", \"I want to cook {cuisine} food?\")\n",
    "    ]\n",
    ")\n",
    "\n",
    "chef_chain = chef_prompt | chat"
   ]
  },
  {
   "cell_type": "code",
   "execution_count": 2,
   "metadata": {},
   "outputs": [],
   "source": [
    "veg_chef_prompt = ChatPromptTemplate.from_messages(\n",
    "    [\n",
    "        (\"system\", \"You are a vegetarian chef specialized on making traditional recipies vegetarian. You find alternative ingredients and explain their preparation. You don't radically modify the recipe. If there is no alternative for a food just say you don't know how to replace it.\"),\n",
    "        (\"human\", \"{recipe}\")\n",
    "    ]\n",
    ")\n",
    "\n",
    "veg_chef_chain = veg_chef_prompt | chat"
   ]
  },
  {
   "cell_type": "code",
   "execution_count": 3,
   "metadata": {},
   "outputs": [
    {
     "name": "stdout",
     "output_type": "stream",
     "text": [
      "Great choice! Korean cuisine is known for its bold flavors and unique ingredients. Here's a simple recipe for a classic Korean dish called Bibimbap. It's a delicious and nutritious mixed rice bowl that you can customize with your favorite toppings.\n",
      "\n",
      "Ingredients:\n",
      "- 2 cups cooked short-grain rice\n",
      "- 1 carrot, julienned\n",
      "- 1 zucchini, julienned\n",
      "- 1 cup spinach\n",
      "- 1 cup bean sprouts\n",
      "- 4 shiitake mushrooms, sliced\n",
      "- 1 cup ground beef or chicken (optional)\n",
      "- 2 tablespoons vegetable oil\n",
      "- 4 eggs\n",
      "- 4 tablespoons gochujang (Korean chili paste)\n",
      "- Sesame oil, for drizzling\n",
      "- Sesame seeds, for garnish\n",
      "- Salt, to taste\n",
      "\n",
      "Instructions:\n",
      "1. Prepare the vegetables: Blanch the spinach and bean sprouts in boiling water for 1-2 minutes. Drain and rinse with cold water. Squeeze out excess water from the spinach and season with a pinch of salt. Set aside. Sauté the carrots, zucchini, and mushrooms separately in a pan with a little oil until tender. Season with salt. Set aside.\n",
      "\n",
      "2. Cook the meat (optional): In the same pan, cook the ground beef or chicken until browned and cooked through. Season with salt. Set aside.\n",
      "\n",
      "3. Fry the eggs: Heat a little oil in a non-stick pan over medium heat. Crack the eggs into the pan and cook until the whites are set but the yolks are still runny. Remove from heat.\n",
      "\n",
      "4. Assemble the bibimbap: Divide the cooked rice into four bowls. Arrange the cooked vegetables, meat (if using), and fried eggs on top of the rice. Add a tablespoon of gochujang to each bowl.\n",
      "\n",
      "5. Serve: Drizzle a little sesame oil over each bowl and sprinkle with sesame seeds. Mix everything together thoroughly before eating.\n",
      "\n",
      "Enjoy your homemade Bibimbap! Feel free to add or substitute any vegetables or protein according to your preference.Great choice! Bibimbap is a delicious Korean dish that can easily be made vegetarian. Here's how you can make a vegetarian version of Bibimbap:\n",
      "\n",
      "Ingredients:\n",
      "- 2 cups cooked short-grain rice\n",
      "- 1 carrot, julienned\n",
      "- 1 zucchini, julienned\n",
      "- 1 cup spinach\n",
      "- 1 cup bean sprouts\n",
      "- 4 shiitake mushrooms, sliced\n",
      "- 2 tablespoons vegetable oil\n",
      "- 4 eggs\n",
      "- 4 tablespoons gochujang (Korean chili paste)\n",
      "- Sesame oil, for drizzling\n",
      "- Sesame seeds, for garnish\n",
      "- Salt, to taste\n",
      "\n",
      "Instructions:\n",
      "1. Prepare the vegetables: Blanch the spinach and bean sprouts in boiling water for 1-2 minutes. Drain and rinse with cold water. Squeeze out excess water from the spinach and season with a pinch of salt. Set aside. Sauté the carrots, zucchini, and mushrooms separately in a pan with a little oil until tender. Season with salt. Set aside.\n",
      "\n",
      "2. Cook the meat alternative: Instead of using ground beef or chicken, you can use a meat alternative such as crumbled tempeh or textured vegetable protein (TVP). Cook the meat alternative according to the package instructions and season with salt. Set aside.\n",
      "\n",
      "3. Fry the eggs: Heat a little oil in a non-stick pan over medium heat. Crack the eggs into the pan and cook until the whites are set but the yolks are still runny. Remove from heat.\n",
      "\n",
      "4. Assemble the bibimbap: Divide the cooked rice into four bowls. Arrange the cooked vegetables and meat alternative on top of the rice. Add a tablespoon of gochujang to each bowl.\n",
      "\n",
      "5. Serve: Drizzle a little sesame oil over each bowl and sprinkle with sesame seeds. Top each bowl with a fried egg. Mix everything together thoroughly before eating.\n",
      "\n",
      "Enjoy your vegetarian Bibimbap! Feel free to add or substitute any vegetables or protein alternatives according to your preference."
     ]
    },
    {
     "data": {
      "text/plain": [
       "AIMessageChunk(content=\"Great choice! Bibimbap is a delicious Korean dish that can easily be made vegetarian. Here's how you can make a vegetarian version of Bibimbap:\\n\\nIngredients:\\n- 2 cups cooked short-grain rice\\n- 1 carrot, julienned\\n- 1 zucchini, julienned\\n- 1 cup spinach\\n- 1 cup bean sprouts\\n- 4 shiitake mushrooms, sliced\\n- 2 tablespoons vegetable oil\\n- 4 eggs\\n- 4 tablespoons gochujang (Korean chili paste)\\n- Sesame oil, for drizzling\\n- Sesame seeds, for garnish\\n- Salt, to taste\\n\\nInstructions:\\n1. Prepare the vegetables: Blanch the spinach and bean sprouts in boiling water for 1-2 minutes. Drain and rinse with cold water. Squeeze out excess water from the spinach and season with a pinch of salt. Set aside. Sauté the carrots, zucchini, and mushrooms separately in a pan with a little oil until tender. Season with salt. Set aside.\\n\\n2. Cook the meat alternative: Instead of using ground beef or chicken, you can use a meat alternative such as crumbled tempeh or textured vegetable protein (TVP). Cook the meat alternative according to the package instructions and season with salt. Set aside.\\n\\n3. Fry the eggs: Heat a little oil in a non-stick pan over medium heat. Crack the eggs into the pan and cook until the whites are set but the yolks are still runny. Remove from heat.\\n\\n4. Assemble the bibimbap: Divide the cooked rice into four bowls. Arrange the cooked vegetables and meat alternative on top of the rice. Add a tablespoon of gochujang to each bowl.\\n\\n5. Serve: Drizzle a little sesame oil over each bowl and sprinkle with sesame seeds. Top each bowl with a fried egg. Mix everything together thoroughly before eating.\\n\\nEnjoy your vegetarian Bibimbap! Feel free to add or substitute any vegetables or protein alternatives according to your preference.\")"
      ]
     },
     "execution_count": 3,
     "metadata": {},
     "output_type": "execute_result"
    }
   ],
   "source": [
    "final_chain = {\"recipe\":chef_chain} | veg_chef_chain\n",
    "\n",
    "final_chain.invoke({\n",
    "    \"cuisine\":\"Korean\"\n",
    "})"
   ]
  },
  {
   "cell_type": "code",
   "execution_count": null,
   "metadata": {},
   "outputs": [],
   "source": []
  }
 ],
 "metadata": {
  "kernelspec": {
   "display_name": "env",
   "language": "python",
   "name": "python3"
  },
  "language_info": {
   "codemirror_mode": {
    "name": "ipython",
    "version": 3
   },
   "file_extension": ".py",
   "mimetype": "text/x-python",
   "name": "python",
   "nbconvert_exporter": "python",
   "pygments_lexer": "ipython3",
   "version": "3.10.13"
  }
 },
 "nbformat": 4,
 "nbformat_minor": 2
}
