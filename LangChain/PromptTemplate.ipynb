{
 "cells": [
  {
   "cell_type": "code",
   "execution_count": 2,
   "metadata": {},
   "outputs": [
    {
     "data": {
      "text/plain": [
       "AIMessage(content=\"There are many famous things in mathematics, but some of the most well-known concepts and results include:\\n\\n1. Pythagorean Theorem: This theorem states that in a right-angled triangle, the square of the length of the hypotenuse (the side opposite the right angle) is equal to the sum of the squares of the lengths of the other two sides.\\n\\n2. Euler's Formula: This formula relates the exponential function, trigonometric functions, and complex numbers. It states that for any real number x, e^(ix) = cos(x) + i*sin(x), where e is Euler's number, i is the imaginary unit, and cos and sin are the cosine and sine functions, respectively.\\n\\n3. Fibonacci Sequence: This is a sequence of numbers in which each number is the sum of the two preceding ones. It starts with 0 and 1, and the sequence continues indefinitely.\\n\\n4. The Golden Ratio: This is an irrational number approximately equal to 1.6180339887. It has many interesting properties and is often found in nature and art. It is also related to the Fibonacci sequence.\\n\\n5. Fermat's Last Theorem: This theorem states that there are no three positive integers a, b, and c that satisfy the equation a^n + b^n = c^n for any integer value of n greater than 2. It was famously proved by Andrew Wiles in 1994.\\n\\nThese are just a few examples, and there are many more fascinating concepts and results in mathematics.\")"
      ]
     },
     "execution_count": 2,
     "metadata": {},
     "output_type": "execute_result"
    }
   ],
   "source": [
    "from langchain.chat_models import ChatOpenAI\n",
    "\n",
    "chat = ChatOpenAI(temperature=0.3)\n",
    "\n",
    "from langchain.prompts import PromptTemplate, ChatPromptTemplate\n",
    "\n",
    "template = ChatPromptTemplate.from_messages(\n",
    "    [\n",
    "        (\"system\", \"You are a {major} expert.\"),\n",
    "        (\"ai\", \"hello, i am AI {name}.\"),\n",
    "        (\"human\", \"what is famous thing in {major}?\")\n",
    "    ]\n",
    ")\n",
    "\n",
    "prompt = template.format_messages(\n",
    "    major = \"Mathmathical\",\n",
    "    name = \"Professor\"\n",
    ")\n",
    "\n",
    "chat.predict_messages(prompt)"
   ]
  },
  {
   "cell_type": "code",
   "execution_count": null,
   "metadata": {},
   "outputs": [],
   "source": []
  }
 ],
 "metadata": {
  "kernelspec": {
   "display_name": "env",
   "language": "python",
   "name": "python3"
  },
  "language_info": {
   "codemirror_mode": {
    "name": "ipython",
    "version": 3
   },
   "file_extension": ".py",
   "mimetype": "text/x-python",
   "name": "python",
   "nbconvert_exporter": "python",
   "pygments_lexer": "ipython3",
   "version": "3.10.7"
  }
 },
 "nbformat": 4,
 "nbformat_minor": 2
}
