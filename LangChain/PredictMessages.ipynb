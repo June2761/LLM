{
 "cells": [
  {
   "cell_type": "code",
   "execution_count": 1,
   "metadata": {},
   "outputs": [],
   "source": [
    "from langchain.chat_models import ChatOpenAI\n",
    "\n",
    "chat = ChatOpenAI(temperature=0.3)\n",
    "\n",
    "from langchain.schema import AIMessage, HumanMessage, SystemMessage\n",
    "\n",
    "messages = [\n",
    "    SystemMessage(content=\"You are a mathmatical expert.\"),\n",
    "    AIMessage(content=\"hello, i am AI euler.\"),\n",
    "    HumanMessage(content=\"what is euler formula?\")\n",
    "]"
   ]
  },
  {
   "cell_type": "code",
   "execution_count": 2,
   "metadata": {},
   "outputs": [
    {
     "data": {
      "text/plain": [
       "AIMessage(content=\"The Euler's formula is a mathematical equation that relates the exponential function, complex numbers, and trigonometric functions. It is given by:\\n\\ne^(ix) = cos(x) + i*sin(x)\\n\\nwhere:\\n- e is the base of the natural logarithm (approximately 2.71828)\\n- i is the imaginary unit (i^2 = -1)\\n- x is a real number representing an angle in radians\\n- cos(x) represents the cosine of the angle x\\n- sin(x) represents the sine of the angle x\\n\\nThis formula is significant in complex analysis and has various applications in fields such as physics, engineering, and computer science.\")"
      ]
     },
     "execution_count": 2,
     "metadata": {},
     "output_type": "execute_result"
    }
   ],
   "source": [
    "chat.predict_messages(messages)"
   ]
  },
  {
   "cell_type": "code",
   "execution_count": null,
   "metadata": {},
   "outputs": [],
   "source": []
  }
 ],
 "metadata": {
  "kernelspec": {
   "display_name": "env",
   "language": "python",
   "name": "python3"
  },
  "language_info": {
   "codemirror_mode": {
    "name": "ipython",
    "version": 3
   },
   "file_extension": ".py",
   "mimetype": "text/x-python",
   "name": "python",
   "nbconvert_exporter": "python",
   "pygments_lexer": "ipython3",
   "version": "3.10.7"
  }
 },
 "nbformat": 4,
 "nbformat_minor": 2
}
