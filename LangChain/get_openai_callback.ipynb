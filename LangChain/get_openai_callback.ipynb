{
 "cells": [
  {
   "cell_type": "code",
   "execution_count": 1,
   "metadata": {},
   "outputs": [
    {
     "name": "stdout",
     "output_type": "stream",
     "text": [
      "Here is a simple recipe for making soju at home:\n",
      "\n",
      "Ingredients:\n",
      "- 1 cup of rice\n",
      "- 1 cup of nuruk (Korean fermentation starter)\n",
      "- 8 cups of water\n",
      "- 1 tablespoon of yeast\n",
      "- 1 cup of sugar (optional, for sweetening)\n",
      "\n",
      "Instructions:\n",
      "1. Rinse the rice thoroughly and soak it in water for about 1 hour.\n",
      "2. Drain the soaked rice and transfer it to a large pot. Add 8 cups of water and bring it to a boil.\n",
      "3. Reduce the heat to low and simmer the rice for about 30 minutes, or until it becomes soft and mushy.\n",
      "4. Remove the pot from heat and let it cool down to room temperature.\n",
      "5. Once the rice has cooled, transfer it to a large fermentation container or jar.\n",
      "6. Add the nuruk and yeast to the container and mix well with the rice.\n",
      "7. Cover the container with a clean cloth or plastic wrap and let it ferment for about 7-10 days at room temperature.\n",
      "8. After the fermentation period, strain the mixture through a cheesecloth or fine mesh strainer to remove any solids.\n",
      "9. If desired, add sugar to the strained liquid and stir until dissolved.\n",
      "10. Transfer the soju to clean bottles or jars and refrigerate for at least 24 hours before serving.\n",
      "11. Serve chilled and enjoy your homemade soju!\n",
      "\n",
      "Note: This recipe is a simplified version of traditional soju-making, which typically involves multiple distillation processes. The homemade version may not have the same alcohol content as commercially produced soju. Please drink responsibly. \n",
      "\n",
      "Here is a basic recipe for making bread:\n",
      "\n",
      "Ingredients:\n",
      "- 4 cups all-purpose flour\n",
      "- 2 teaspoons active dry yeast\n",
      "- 2 teaspoons salt\n",
      "- 2 teaspoons sugar\n",
      "- 2 cups warm water (around 110°F/43°C)\n",
      "- 2 tablespoons olive oil (optional)\n",
      "\n",
      "Instructions:\n",
      "1. In a large mixing bowl, combine the warm water and sugar. Stir until the sugar is dissolved.\n",
      "2. Sprinkle the yeast over the water and let it sit for about 5 minutes, or until it becomes foamy.\n",
      "3. Add the flour and salt to the bowl and mix until a dough forms.\n",
      "4. Knead the dough on a lightly floured surface for about 10 minutes, until it becomes smooth and elastic. You can also use a stand mixer with a dough hook attachment for this step.\n",
      "5. Place the dough in a greased bowl and cover it with a clean kitchen towel. Let it rise in a warm place for about 1-2 hours, or until it doubles in size.\n",
      "6. Once the dough has risen, punch it down to release any air bubbles. You can knead it briefly again if needed.\n",
      "7. Shape the dough into a loaf or divide it into smaller portions to make rolls or baguettes.\n",
      "8. Place the shaped dough on a baking sheet or in a greased loaf pan. Cover it with a towel and let it rise for another 30-60 minutes.\n",
      "9. Preheat the oven to 425°F (220°C).\n",
      "10. Optional: Brush the top of the dough with olive oil for a shiny crust.\n",
      "11. Bake the bread for about 25-30 minutes, or until it turns golden brown and sounds hollow when tapped on the bottom.\n",
      "12. Remove the bread from the oven and let it cool on a wire rack before slicing and serving.\n",
      "\n",
      "Note: This is a basic bread recipe, and you can customize it by adding herbs, spices, seeds, or other ingredients to the dough. \n",
      "\n",
      "Tokens Used: 764\n",
      "\tPrompt Tokens: 27\n",
      "\tCompletion Tokens: 737\n",
      "Successful Requests: 2\n",
      "Total Cost (USD): $0.0015144999999999998\n"
     ]
    }
   ],
   "source": [
    "from langchain.chat_models import ChatOpenAI\n",
    "from langchain.callbacks import get_openai_callback\n",
    "\n",
    "chat = ChatOpenAI(\n",
    "    temperature=0.1,\n",
    ")\n",
    "\n",
    "\n",
    "with get_openai_callback() as usage:\n",
    "    a = chat.predict(\"What is the recipe for soju\")\n",
    "    b = chat.predict(\"What is the recipe for bread\")\n",
    "    print(a, \"\\n\")\n",
    "    print(b, \"\\n\")\n",
    "    print(usage)"
   ]
  },
  {
   "cell_type": "code",
   "execution_count": null,
   "metadata": {},
   "outputs": [],
   "source": []
  }
 ],
 "metadata": {
  "kernelspec": {
   "display_name": "env",
   "language": "python",
   "name": "python3"
  },
  "language_info": {
   "codemirror_mode": {
    "name": "ipython",
    "version": 3
   },
   "file_extension": ".py",
   "mimetype": "text/x-python",
   "name": "python",
   "nbconvert_exporter": "python",
   "pygments_lexer": "ipython3",
   "version": "3.10.7"
  }
 },
 "nbformat": 4,
 "nbformat_minor": 2
}
