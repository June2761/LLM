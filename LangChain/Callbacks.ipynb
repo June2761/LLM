{
 "cells": [
  {
   "cell_type": "code",
   "execution_count": 3,
   "metadata": {},
   "outputs": [
    {
     "name": "stdout",
     "output_type": "stream",
     "text": [
      "Great choice! Korean cuisine is known for its bold flavors and unique ingredients. Here's a recipe for a classic Korean dish called Bibimbap, which is a delicious mixed rice bowl. It's easy to make and requires ingredients that are readily available.\n",
      "\n",
      "Ingredients:\n",
      "- 2 cups cooked short-grain rice\n",
      "- 1 carrot, julienned\n",
      "- 1 zucchini, julienned\n",
      "- 1 cup bean sprouts\n",
      "- 1 cup spinach\n",
      "- 4 shiitake mushrooms, sliced\n",
      "- 1/2 pound beef (you can use sirloin or ribeye), thinly sliced\n",
      "- 4 eggs\n",
      "- 4 tablespoons gochujang (Korean chili paste)\n",
      "- 2 tablespoons soy sauce\n",
      "- 2 tablespoons sesame oil\n",
      "- 2 cloves garlic, minced\n",
      "- 2 tablespoons vegetable oil\n",
      "- Salt, to taste\n",
      "- Sesame seeds, for garnish\n",
      "- Kimchi, for serving (optional)\n",
      "\n",
      "Instructions:\n",
      "1. Cook the rice according to the package instructions and set aside.\n",
      "2. In a small bowl, mix together the soy sauce, sesame oil, minced garlic, and a pinch of salt. Marinate the beef in this mixture for about 10 minutes.\n",
      "3. Heat 1 tablespoon of vegetable oil in a skillet over medium heat. Stir-fry the marinated beef until cooked through, then remove from the skillet and set aside.\n",
      "4. In the same skillet, add another tablespoon of vegetable oil and stir-fry the carrots, zucchini, bean sprouts, and mushrooms separately until they are tender-crisp. Season each vegetable with a pinch of salt while cooking. Set aside.\n",
      "5. Blanch the spinach in boiling water for about 1 minute, then drain and rinse with cold water. Squeeze out any excess water and season with a pinch of salt.\n",
      "6. In a separate non-stick pan, fry the eggs sunny-side up or over-easy, according to your preference.\n",
      "7. To assemble the bibimbap, divide the cooked rice among four bowls. Arrange the cooked vegetables, beef, and fried eggs on top of the rice in separate sections.\n",
      "8. Place a tablespoon of gochujang in the center of each bowl.\n",
      "9. Sprinkle sesame seeds over the top and serve with kimchi on the side if desired.\n",
      "10. To eat, mix everything together thoroughly, ensuring that the gochujang is evenly distributed.\n",
      "\n",
      "Enjoy your homemade Korean Bibimbap! It's a complete meal in a bowl, packed with flavors and textures."
     ]
    },
    {
     "data": {
      "text/plain": [
       "AIMessageChunk(content=\"Great choice! Korean cuisine is known for its bold flavors and unique ingredients. Here's a recipe for a classic Korean dish called Bibimbap, which is a delicious mixed rice bowl. It's easy to make and requires ingredients that are readily available.\\n\\nIngredients:\\n- 2 cups cooked short-grain rice\\n- 1 carrot, julienned\\n- 1 zucchini, julienned\\n- 1 cup bean sprouts\\n- 1 cup spinach\\n- 4 shiitake mushrooms, sliced\\n- 1/2 pound beef (you can use sirloin or ribeye), thinly sliced\\n- 4 eggs\\n- 4 tablespoons gochujang (Korean chili paste)\\n- 2 tablespoons soy sauce\\n- 2 tablespoons sesame oil\\n- 2 cloves garlic, minced\\n- 2 tablespoons vegetable oil\\n- Salt, to taste\\n- Sesame seeds, for garnish\\n- Kimchi, for serving (optional)\\n\\nInstructions:\\n1. Cook the rice according to the package instructions and set aside.\\n2. In a small bowl, mix together the soy sauce, sesame oil, minced garlic, and a pinch of salt. Marinate the beef in this mixture for about 10 minutes.\\n3. Heat 1 tablespoon of vegetable oil in a skillet over medium heat. Stir-fry the marinated beef until cooked through, then remove from the skillet and set aside.\\n4. In the same skillet, add another tablespoon of vegetable oil and stir-fry the carrots, zucchini, bean sprouts, and mushrooms separately until they are tender-crisp. Season each vegetable with a pinch of salt while cooking. Set aside.\\n5. Blanch the spinach in boiling water for about 1 minute, then drain and rinse with cold water. Squeeze out any excess water and season with a pinch of salt.\\n6. In a separate non-stick pan, fry the eggs sunny-side up or over-easy, according to your preference.\\n7. To assemble the bibimbap, divide the cooked rice among four bowls. Arrange the cooked vegetables, beef, and fried eggs on top of the rice in separate sections.\\n8. Place a tablespoon of gochujang in the center of each bowl.\\n9. Sprinkle sesame seeds over the top and serve with kimchi on the side if desired.\\n10. To eat, mix everything together thoroughly, ensuring that the gochujang is evenly distributed.\\n\\nEnjoy your homemade Korean Bibimbap! It's a complete meal in a bowl, packed with flavors and textures.\")"
      ]
     },
     "execution_count": 3,
     "metadata": {},
     "output_type": "execute_result"
    }
   ],
   "source": [
    "from langchain.chat_models import ChatOpenAI\n",
    "from langchain.prompts import ChatPromptTemplate\n",
    "from langchain.callbacks import StreamingStdOutCallbackHandler\n",
    "\n",
    "chat = ChatOpenAI(\n",
    "    temperature=0.3,\n",
    "    streaming=True,\n",
    "    callbacks=[StreamingStdOutCallbackHandler()]\n",
    ")\n",
    "\n",
    "chef_prompt = ChatPromptTemplate.from_messages(\n",
    "    [\n",
    "        (\"system\", \"You are a World class international chef. You create easy to follow recipes for any type of cuisine with easy to find ingredients\"),\n",
    "        (\"human\", \"I want to cook {cuisine} food?\")\n",
    "    ]\n",
    ")\n",
    "\n",
    "chef_chain = chef_prompt | chat\n",
    "chef_chain.invoke({\n",
    "    \"cuisine\":\"Korean\"\n",
    "})"
   ]
  },
  {
   "cell_type": "code",
   "execution_count": null,
   "metadata": {},
   "outputs": [],
   "source": []
  }
 ],
 "metadata": {
  "kernelspec": {
   "display_name": "env",
   "language": "python",
   "name": "python3"
  },
  "language_info": {
   "codemirror_mode": {
    "name": "ipython",
    "version": 3
   },
   "file_extension": ".py",
   "mimetype": "text/x-python",
   "name": "python",
   "nbconvert_exporter": "python",
   "pygments_lexer": "ipython3",
   "version": "3.10.13"
  }
 },
 "nbformat": 4,
 "nbformat_minor": 2
}
